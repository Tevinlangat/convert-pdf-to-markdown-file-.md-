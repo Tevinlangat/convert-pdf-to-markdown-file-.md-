{
 "cells": [
  {
   "cell_type": "code",
   "execution_count": 1,
   "id": "ff67d31b",
   "metadata": {},
   "outputs": [
    {
     "name": "stdout",
     "output_type": "stream",
     "text": [
      "Collecting pdfplumber"
     ]
    },
    {
     "name": "stderr",
     "output_type": "stream",
     "text": [
      "\n",
      "[notice] A new release of pip is available: 23.2.1 -> 24.0\n",
      "[notice] To update, run: python.exe -m pip install --upgrade pip\n"
     ]
    },
    {
     "name": "stdout",
     "output_type": "stream",
     "text": [
      "\n",
      "  Obtaining dependency information for pdfplumber from https://files.pythonhosted.org/packages/ee/ec/315015b6c4667d889cc14348c93e31f9fd43a6f61162b85c39e4a21018d5/pdfplumber-0.11.0-py3-none-any.whl.metadata\n",
      "  Downloading pdfplumber-0.11.0-py3-none-any.whl.metadata (39 kB)\n",
      "Requirement already satisfied: pdfminer.six==20231228 in c:\\users\\tevin\\appdata\\local\\programs\\python\\python311\\lib\\site-packages (from pdfplumber) (20231228)\n",
      "Requirement already satisfied: Pillow>=9.1 in c:\\users\\tevin\\appdata\\local\\programs\\python\\python311\\lib\\site-packages (from pdfplumber) (9.5.0)\n",
      "Collecting pypdfium2>=4.18.0 (from pdfplumber)\n",
      "  Obtaining dependency information for pypdfium2>=4.18.0 from https://files.pythonhosted.org/packages/25/bd/56d9ec6b9f0fc4e0d95288759f3179f0fcd34b1a1526b75673d2f6d5196f/pypdfium2-4.30.0-py3-none-win_amd64.whl.metadata\n",
      "  Downloading pypdfium2-4.30.0-py3-none-win_amd64.whl.metadata (48 kB)\n",
      "     ---------------------------------------- 0.0/48.5 kB ? eta -:--:--\n",
      "     ---------------------------------------- 48.5/48.5 kB ? eta 0:00:00\n",
      "Requirement already satisfied: charset-normalizer>=2.0.0 in c:\\users\\tevin\\appdata\\local\\programs\\python\\python311\\lib\\site-packages (from pdfminer.six==20231228->pdfplumber) (3.1.0)\n",
      "Requirement already satisfied: cryptography>=36.0.0 in c:\\users\\tevin\\appdata\\local\\programs\\python\\python311\\lib\\site-packages (from pdfminer.six==20231228->pdfplumber) (42.0.7)\n",
      "Requirement already satisfied: cffi>=1.12 in c:\\users\\tevin\\appdata\\local\\programs\\python\\python311\\lib\\site-packages (from cryptography>=36.0.0->pdfminer.six==20231228->pdfplumber) (1.15.1)\n",
      "Requirement already satisfied: pycparser in c:\\users\\tevin\\appdata\\local\\programs\\python\\python311\\lib\\site-packages (from cffi>=1.12->cryptography>=36.0.0->pdfminer.six==20231228->pdfplumber) (2.21)\n",
      "Downloading pdfplumber-0.11.0-py3-none-any.whl (56 kB)\n",
      "   ---------------------------------------- 0.0/56.4 kB ? eta -:--:--\n",
      "   ------------------------------------ --- 51.2/56.4 kB ? eta -:--:--\n",
      "   ---------------------------------------- 56.4/56.4 kB 1.4 MB/s eta 0:00:00\n",
      "Downloading pypdfium2-4.30.0-py3-none-win_amd64.whl (2.9 MB)\n",
      "   ---------------------------------------- 0.0/2.9 MB ? eta -:--:--\n",
      "   - -------------------------------------- 0.1/2.9 MB ? eta -:--:--\n",
      "   - -------------------------------------- 0.1/2.9 MB ? eta -:--:--\n",
      "   - -------------------------------------- 0.1/2.9 MB ? eta -:--:--\n",
      "   -- ------------------------------------- 0.2/2.9 MB 1.1 MB/s eta 0:00:03\n",
      "   --- ------------------------------------ 0.2/2.9 MB 1.3 MB/s eta 0:00:03\n",
      "   --- ------------------------------------ 0.2/2.9 MB 1.3 MB/s eta 0:00:03\n",
      "   --- ------------------------------------ 0.3/2.9 MB 853.3 kB/s eta 0:00:04\n",
      "   ------ --------------------------------- 0.5/2.9 MB 1.2 MB/s eta 0:00:03\n",
      "   ------ --------------------------------- 0.5/2.9 MB 1.3 MB/s eta 0:00:02\n",
      "   ------- -------------------------------- 0.6/2.9 MB 1.2 MB/s eta 0:00:02\n",
      "   --------- ------------------------------ 0.7/2.9 MB 1.3 MB/s eta 0:00:02\n",
      "   -------------- ------------------------- 1.0/2.9 MB 1.8 MB/s eta 0:00:02\n",
      "   -------------- ------------------------- 1.1/2.9 MB 1.7 MB/s eta 0:00:02\n",
      "   ---------------- ----------------------- 1.2/2.9 MB 1.7 MB/s eta 0:00:01\n",
      "   ------------------- -------------------- 1.4/2.9 MB 1.9 MB/s eta 0:00:01\n",
      "   ----------------------- ---------------- 1.7/2.9 MB 2.1 MB/s eta 0:00:01\n",
      "   ------------------------------ --------- 2.2/2.9 MB 2.6 MB/s eta 0:00:01\n",
      "   ---------------------------------- ----- 2.5/2.9 MB 2.8 MB/s eta 0:00:01\n",
      "   ------------------------------------- -- 2.7/2.9 MB 2.9 MB/s eta 0:00:01\n",
      "   ------------------------------------- -- 2.7/2.9 MB 2.8 MB/s eta 0:00:01\n",
      "   ---------------------------------------  2.9/2.9 MB 2.8 MB/s eta 0:00:01\n",
      "   ---------------------------------------- 2.9/2.9 MB 2.6 MB/s eta 0:00:00\n",
      "Installing collected packages: pypdfium2, pdfplumber\n",
      "Successfully installed pdfplumber-0.11.0 pypdfium2-4.30.0\n"
     ]
    }
   ],
   "source": [
    "!pip install pdfplumber"
   ]
  },
  {
   "cell_type": "code",
   "execution_count": 2,
   "id": "464191b6",
   "metadata": {},
   "outputs": [],
   "source": [
    "import pdfplumber"
   ]
  },
  {
   "cell_type": "code",
   "execution_count": 6,
   "id": "e9c884f8",
   "metadata": {
    "scrolled": true
   },
   "outputs": [],
   "source": [
    "pdf_file = './pdfs/Data_Pipelines_with_Apache.pdf' # replace with the pdf to convert\n",
    "\n",
    "with pdfplumber.open(pdf_file) as pdf:\n",
    "    markdown_text = \"\"\n",
    "    for page in pdf.pages:\n",
    "        markdown_text += page.extract_text()\n",
    "        \n",
    "with open(\"./md/output.md\", \"w\",encoding=\"utf-8\") as file:\n",
    "    file.write(markdown_text)"
   ]
  },
  {
   "cell_type": "code",
   "execution_count": null,
   "id": "e2ac9a16",
   "metadata": {},
   "outputs": [],
   "source": []
  },
  {
   "cell_type": "code",
   "execution_count": null,
   "id": "9c9af1da",
   "metadata": {},
   "outputs": [],
   "source": []
  }
 ],
 "metadata": {
  "kernelspec": {
   "display_name": "Python 3 (ipykernel)",
   "language": "python",
   "name": "python3"
  },
  "language_info": {
   "codemirror_mode": {
    "name": "ipython",
    "version": 3
   },
   "file_extension": ".py",
   "mimetype": "text/x-python",
   "name": "python",
   "nbconvert_exporter": "python",
   "pygments_lexer": "ipython3",
   "version": "3.11.3"
  }
 },
 "nbformat": 4,
 "nbformat_minor": 5
}
