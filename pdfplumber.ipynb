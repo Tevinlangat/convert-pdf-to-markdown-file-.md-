{
 "cells": [
  {
   "cell_type": "code",
   "execution_count": 1,
   "id": "ff67d31b",
   "metadata": {},
   "outputs": [
    {
     "name": "stdout",
     "output_type": "stream",
     "text": [
      "Collecting pdfplumber"
     ]
    },
    {
     "name": "stderr",
     "output_type": "stream",
     "text": [
      "\n",
      "[notice] A new release of pip is available: 23.2.1 -> 24.0\n",
      "[notice] To update, run: python.exe -m pip install --upgrade pip\n"
     ]
    },
   
  {
   "cell_type": "code",
   "execution_count": 2,
   "id": "464191b6",
   "metadata": {},
   "outputs": [],
   "source": [
    "import pdfplumber"
   ]
  },
  {
   "cell_type": "code",
   "execution_count": 6,
   "id": "e9c884f8",
   "metadata": {
    "scrolled": true
   },
   "outputs": [],
   "source": [
    "pdf_file = './pdfs/Data_Pipelines_with_Apache.pdf' # replace with the pdf to convert\n",
    "\n",
    "with pdfplumber.open(pdf_file) as pdf:\n",
    "    markdown_text = \"\"\n",
    "    for page in pdf.pages:\n",
    "        markdown_text += page.extract_text()\n",
    "        \n",
    "with open(\"./md/output.md\", \"w\",encoding=\"utf-8\") as file:\n",
    "    file.write(markdown_text)"
   ]
  },
  {
   "cell_type": "code",
   "execution_count": null,
   "id": "e2ac9a16",
   "metadata": {},
   "outputs": [],
   "source": []
  },
  {
   "cell_type": "code",
   "execution_count": null,
   "id": "9c9af1da",
   "metadata": {},
   "outputs": [],
   "source": []
  }
 ],
 "metadata": {
  "kernelspec": {
   "display_name": "Python 3 (ipykernel)",
   "language": "python",
   "name": "python3"
  },
  "language_info": {
   "codemirror_mode": {
    "name": "ipython",
    "version": 3
   },
   "file_extension": ".py",
   "mimetype": "text/x-python",
   "name": "python",
   "nbconvert_exporter": "python",
   "pygments_lexer": "ipython3",
   "version": "3.11.3"
  }
 },
 "nbformat": 4,
 "nbformat_minor": 5
}
